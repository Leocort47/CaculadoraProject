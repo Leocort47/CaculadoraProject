{
  "nbformat": 4,
  "nbformat_minor": 0,
  "metadata": {
    "colab": {
      "provenance": [],
      "collapsed_sections": []
    },
    "kernelspec": {
      "name": "python3",
      "display_name": "Python 3"
    },
    "language_info": {
      "name": "python"
    }
  },
  "cells": [
    {
      "cell_type": "code",
      "execution_count": null,
      "metadata": {
        "id": "oyfGsA2TthW8"
      },
      "outputs": [],
      "source": []
    },
    {
      "cell_type": "markdown",
      "source": [
        "# Pares e impares\n",
        "Ejemplo de Jesus"
      ],
      "metadata": {
        "id": "vqmLMVYottOW"
      }
    },
    {
      "cell_type": "code",
      "source": [
        "#Comprensión\n",
        "n=int(input(\"Hasta que número quieres imprimir los pares e impares: \"))\n",
        "pares=[número for número in range(0,n+1) if número%2==0]\n",
        "print(pares)\n",
        "impares=[número for número in range(0,n+1) if número%2!=0]\n",
        "print(impares)"
      ],
      "metadata": {
        "id": "JFhprBkVtwyM"
      },
      "execution_count": null,
      "outputs": []
    },
    {
      "cell_type": "code",
      "source": [
        "#Tradicional\n",
        "num=int(input(\"hasta que número quieres imprimir los pares e impares: \"))\n",
        "def hola(n):\n",
        " pares=[número for número in range(0,n+1) if número%2==0]\n",
        " print(pares)\n",
        " impares=[número for número in range(0,n+1) if número%2!=0]\n",
        " print(impares)\n",
        "hola(num)"
      ],
      "metadata": {
        "id": "XjmuZH25tzUs"
      },
      "execution_count": null,
      "outputs": []
    },
    {
      "cell_type": "code",
      "source": [
        "#Lambda\n",
        "num=int(input(\"hasta que número quieres imprimir los pares e impares: \"))\n",
        "mi_lista=[n for n in range(0,num+1)]\n",
        "pares=list(filter(lambda num:num%2==0,mi_lista))\n",
        "print(pares)\n",
        "impares=list(filter(lambda num:num%2!=0,mi_lista))\n",
        "print(impares)"
      ],
      "metadata": {
        "id": "Go4Y1ia5t06s"
      },
      "execution_count": null,
      "outputs": []
    },
    {
      "cell_type": "markdown",
      "source": [
        "# Ejemplo de Samuel"
      ],
      "metadata": {
        "id": "Yax_xGCit3Vs"
      }
    },
    {
      "cell_type": "code",
      "source": [
        "#Comprensión\n",
        "n=int(input(\"Hasta que numero quieres imprimir los pares e impares\"))\n",
        "pares = [numero for numero in range(0,n+1) if numero%2==0]\n",
        "pares\n",
        "impares=[numero for numero in range(0,n+1) if numero%2!=0]\n",
        "impares"
      ],
      "metadata": {
        "id": "foWYadaXt4l0"
      },
      "execution_count": null,
      "outputs": []
    },
    {
      "cell_type": "code",
      "source": [
        "#Tradicional con def\n",
        "num=int(input(\"Hasta que numero quieres imprimir los pares e impares\"))\n",
        "def hola(n):\n",
        "  pares = [numero for numero in range(0,n+1) if numero%2==0]\n",
        "  pares\n",
        "  impares=[numero for numero in range(0,n+1) if numero%2!=0]\n",
        "  impares\n",
        "hola(num)"
      ],
      "metadata": {
        "id": "vN06kVrPt6h0"
      },
      "execution_count": null,
      "outputs": []
    },
    {
      "cell_type": "code",
      "source": [
        "#Con lambda y filter\n",
        "num=int(input(\"Hasta que numero quieres imprimir los pares e impares\"))\n",
        "mi_lista = [n for n in range(0,num+1)]\n",
        "pares = list(filter(lambda num:num%2==0, mi_lista))\n",
        "pares\n",
        "impares = list(filter(lambda num:num%2!=0, mi_lista))\n",
        "impares"
      ],
      "metadata": {
        "id": "CJaJ2I8dt9Ib"
      },
      "execution_count": null,
      "outputs": []
    },
    {
      "cell_type": "markdown",
      "source": [
        "# Ejemplo de Jhonsito"
      ],
      "metadata": {
        "id": "ePVmBPhnt-sD"
      }
    },
    {
      "cell_type": "code",
      "source": [
        "#Tradicional\n",
        "def perfecto(numero):\n",
        "  perf=0\n",
        "  for i in range(1,numero):\n",
        "    if numero%i==0:\n",
        "      perf+=i\n",
        "  if perf==numero:\n",
        "    print(\"Es un numero perfecto\")\n",
        "    return True\n",
        "  else:\n",
        "    print(\"No es un numero perfecto\")\n",
        "numero = 6\n",
        "perfecto(numero)"
      ],
      "metadata": {
        "id": "ac557cIRt_-b"
      },
      "execution_count": null,
      "outputs": []
    },
    {
      "cell_type": "code",
      "source": [
        "#Comprensión\n",
        "def numeros():\n",
        "  a = int(input(\"Ingresa un numero\"))\n",
        "  b = int(input(\"Ingresa un numero\"))\n",
        "  c = int(input(\"Ingresa un numero\"))\n",
        "  d = int(input(\"Ingresa un numero\"))\n",
        "  perfect=[a,b,c,d]\n",
        "\n",
        "  perfect1=[elemento for elemento in perfect if perfecto(elemento)==True]\n",
        "numeros()"
      ],
      "metadata": {
        "id": "mfHkBulSuByz"
      },
      "execution_count": null,
      "outputs": []
    },
    {
      "cell_type": "code",
      "source": [
        "#Con lambda y map\n",
        "lista = [2,3,6,4]\n",
        "perfect2 = list(map(lambda elemento:perfecto(elemento)==True,lista))\n",
        "perfect2"
      ],
      "metadata": {
        "id": "uu7s5PgvuEo7"
      },
      "execution_count": null,
      "outputs": []
    },
    {
      "cell_type": "markdown",
      "source": [
        "# Juan David"
      ],
      "metadata": {
        "id": "T04HZxGZuFcr"
      }
    },
    {
      "cell_type": "code",
      "source": [
        "import random \n",
        "#metodo clasico\n",
        "numero1 = [random.randint(0,2000) for x in range(100)]\n",
        "numero2 = [random.randint(0,2000) for x in range(100)]\n",
        "comun = []\n",
        "for a in numero1:\n",
        "  for b in numero2:\n",
        "    if a == b:\n",
        "      comun.append(a)\n",
        "print(comun)"
      ],
      "metadata": {
        "id": "tA5Kdla-uKkz"
      },
      "execution_count": null,
      "outputs": []
    },
    {
      "cell_type": "code",
      "source": [
        "import random\n",
        "#lambda y filter\n",
        "numero1 = [random.randint(0,2000) for x in range(100)]\n",
        "numero2 = [random.randint(0,2000) for x in range(100)]\n",
        "comun = []\n",
        "comun = list(filter(lambda num: num in numero1, numero2))\n",
        "print(comun)\n"
      ],
      "metadata": {
        "id": "0vG0yW9JuMW7"
      },
      "execution_count": null,
      "outputs": []
    },
    {
      "cell_type": "code",
      "source": [
        "#metodo comprension \n",
        "\n",
        "import random\n",
        "numero1 = [random.randint(0,2000) for x in range(100)]\n",
        "numero2 = [random.randint(0,2000) for x in range(100)]\n",
        "comun = [x for x in numero1 for y in numero2 if x==y]\n",
        "print(comun)\n",
        "\n"
      ],
      "metadata": {
        "id": "zNmv4DrNopXE"
      },
      "execution_count": null,
      "outputs": []
    },
    {
      "cell_type": "markdown",
      "source": [
        "# Angie Gonzalez"
      ],
      "metadata": {
        "id": "m43GAvResGYt"
      }
    },
    {
      "cell_type": "code",
      "source": [
        "nom1 = {\"Samuelle\", \"Angie\", \"Valentina\", \" Alejandro\", \"Johnsito\"}\n",
        "nom2 = {\"Samuelle\", \"Angie\", \"Valentina\", \" Alejandro\", \"Johnsito\"}\n"
      ],
      "metadata": {
        "id": "gDV3fndGsL_a"
      },
      "execution_count": null,
      "outputs": []
    },
    {
      "cell_type": "code",
      "source": [
        "#Por comprensión\n",
        "\n",
        "common={a for a in nom1 for b in nom2 if a==b}\n",
        "common\n"
      ],
      "metadata": {
        "id": "sjMnmtMvuHnx"
      },
      "execution_count": null,
      "outputs": []
    },
    {
      "cell_type": "code",
      "source": [
        "#Por lambda\n",
        "common1 =lambda nom1 , nom2: common\n",
        "print(common1(nom1,nom2))"
      ],
      "metadata": {
        "id": "P8og6wwruWLZ"
      },
      "execution_count": null,
      "outputs": []
    },
    {
      "cell_type": "code",
      "source": [
        "#por Def\n",
        "\n",
        "def common(nom1, nom2):\n",
        "  return nom1, nom2"
      ],
      "metadata": {
        "id": "AEbYahgbul1S"
      },
      "execution_count": null,
      "outputs": []
    },
    {
      "cell_type": "code",
      "source": [
        "nom1, nom2"
      ],
      "metadata": {
        "id": "5Achd-lFux0p"
      },
      "execution_count": null,
      "outputs": []
    },
    {
      "cell_type": "markdown",
      "source": [
        "# Valentina Sanchez"
      ],
      "metadata": {
        "id": "05fYa5MswwOA"
      }
    },
    {
      "cell_type": "code",
      "source": [
        "#Tradicional \n",
        "\n",
        "def listaIMC(usuarios):\n",
        "  sis= []\n",
        "  imc = []\n",
        "  b=0\n",
        "  a2=0\n",
        "\n",
        "  for n in range(usuarios):\n",
        "    w =input(\"¿cuál es tu nombre? \")\n",
        "    b =int(input(\"Ingresa el peso: \"))\n",
        "    a2 = float(input(\"Ingresa la altura: \"))\n",
        "    sis.append((w,b/a2**2))\n",
        "    imc.append(b/a2**2)\n",
        "  return sis, imc\n",
        "\n",
        "user =int(input(\"Cuantos usuarios hay? \"))\n",
        "sis,imc = listaIMC(user)  \n"
      ],
      "metadata": {
        "id": "wQ6mmVtIw173"
      },
      "execution_count": null,
      "outputs": []
    },
    {
      "cell_type": "code",
      "source": [
        "imc"
      ],
      "metadata": {
        "id": "JZUR9FWmx3UX"
      },
      "execution_count": null,
      "outputs": []
    },
    {
      "cell_type": "code",
      "source": [
        "#comprensión\n",
        "\n",
        "sis = listaIMC(user)\n",
        "sis2= [n for n in imc if n>= 18.5]\n",
        "print(sis2)\n",
        "\n"
      ],
      "metadata": {
        "id": "3uo8O4stx6EG"
      },
      "execution_count": null,
      "outputs": []
    },
    {
      "cell_type": "markdown",
      "source": [
        "# Christian"
      ],
      "metadata": {
        "id": "xzjQSIlj39ox"
      }
    },
    {
      "cell_type": "code",
      "source": [
        "lista=[]\n",
        "x = 0\n",
        "while x==0:\n",
        "  entrada = input(\"Ingresa un codigo: \")\n",
        "  lista.append(entrada)\n",
        "  a = int(input(\"Deseas ingreasar otro?, ingresa0 si lo deseas, sino ingresa 1 \"))\n",
        "  if (a==1):\n",
        "    x=x+1\n",
        "\n",
        "calificacion = [a for a in lista if a.startswith(\"U00\") and len(a)==9]\n",
        "print(f\"Hay{len(clasificacion)} estudiante(s) de la Unab y sus codigos(s) son {clasificacion}\")   \n",
        "\n",
        "calificacion = [a for a in lista if a.startswith(\"A00\") and len(a)==9]\n",
        "print(f\"Hay{len(clasificacion)} estudiante(s) de la Unab y sus codigos(s) son {clasificacion}\") \n"
      ],
      "metadata": {
        "id": "mZ5hPvpx4Alh"
      },
      "execution_count": null,
      "outputs": []
    },
    {
      "cell_type": "code",
      "source": [
        "def funcion(lista, numDigitos, Universidad, clasCodigo):\n",
        "  clasificacion = [a for a in lista if a.startswith(clasCodigo) and len(a)==numDigitos]\n",
        "  print(f\"Hay{len(clasificacion)} estudiante(s) de la Unab y sus codigos(s) son {clasificacion}\") \n",
        "\n",
        "lista=[]\n",
        "x=0\n",
        "while x== 0:\n",
        "    entrada = input(\"Ingresa un codigo \")\n",
        "    lista.append(entrada)\n",
        "    a = int(input(\"Deseas ingresar otro?, ingresa 0 si lo deseas, sino ingresa 1\"))\n",
        "    if (a==1):\n",
        "      x=x+1\n",
        "\n",
        "funcion(lista,9, \"La Unab\", \"U00\")\n",
        "funcion(lista,9,\"Los Andes\",\"A000\")"
      ],
      "metadata": {
        "id": "XE1H5m_G5k4a"
      },
      "execution_count": null,
      "outputs": []
    },
    {
      "cell_type": "code",
      "source": [
        "lista=[]\n",
        "x=0\n",
        "while x== 0:\n",
        "    entrada = input(\"Ingresa un codigo \")\n",
        "    lista.append(entrada)\n",
        "    a = int(input(\"Deseas ingresar otro?, ingresa 0 si lo deseas, sino ingresa 1\"))\n",
        "    if (a==1):\n",
        "      x=x+1\n",
        "\n",
        "lista1 = [\"U00123456\",\"U001233434\",\"U00156837\"]\n",
        "clasificacion = list(map(lambda a: \"UNAB\" if a.startswith(\"U00\") or a.startswith(\"u00\") else \"los Andes\" if a.startswith(\"A000\") or  a.startswith(\"a000\") else None, lista))      "
      ],
      "metadata": {
        "id": "E3YgUPaeo07_"
      },
      "execution_count": null,
      "outputs": []
    },
    {
      "cell_type": "code",
      "source": [
        "lista1 = [\"U00123456\",\"U001233434\",\"U00156837\"]\n",
        "clasificacion = list(map(lambda a: print(f\"Hay {len(clasificacion)} estudiantes de la Unab\") if a.startswith(\"U00\") or a.startswith(\"u00\") else print[f\"hay {len(clasificacion)}\"]"
      ],
      "metadata": {
        "id": "MZuqhiibp4Om"
      },
      "execution_count": null,
      "outputs": []
    },
    {
      "cell_type": "markdown",
      "source": [
        "# Santiago"
      ],
      "metadata": {
        "id": "XoYwaoNGI2_s"
      }
    },
    {
      "cell_type": "code",
      "source": [
        "#Comprensión\n",
        "\n",
        "import random\n",
        "clientes = [\"Alex\", \"Bob\", \"Carol\", \"Dave\", \"Flow\", \"Katie\", \"Nate\"]\n",
        "diccionario_descuentos = { cliente:random.randint(1,100) for cliente in clientes}\n",
        "print(diccionario_descuentos)\n"
      ],
      "metadata": {
        "id": "-UR5xmFAJPLl"
      },
      "execution_count": null,
      "outputs": []
    },
    {
      "cell_type": "code",
      "source": [
        "#Lambda\n",
        "import random\n",
        "clientes = [\"Alex\", \"Bob\", \"Carol\", \"Dave\", \"Flow\", \"Katie\", \"Nate\"]\n",
        "diccionarios_descuentos = (dict(map(lambda diccionario_descuentos:(diccionario_descuentos, ramdon.randint(1,100)))))"
      ],
      "metadata": {
        "id": "MveLbIjyJyDu"
      },
      "execution_count": null,
      "outputs": []
    },
    {
      "cell_type": "markdown",
      "source": [
        "# Jaime Rueda"
      ],
      "metadata": {
        "id": "BFb3u5zmPStX"
      }
    },
    {
      "cell_type": "code",
      "source": [
        "productos = [\"milk\", \"bread\", \"butter\",\"apple\",\"watermelon\",\"banana\", \"candy\",\"water\", \"ice cream\", \"sugar\"]\n",
        "precio = [3,4,10,2,5,4,5,3,2,9,5,6,5]\n",
        "\n",
        "#la funcion zip comprime las 2 listas, cpmviertiendolas en pare key-value\n",
        "\n",
        "precio_productos={productos:precio for (productos,precio) in zip(productos, precio)}\n",
        "\n",
        "print(precio_productos)"
      ],
      "metadata": {
        "id": "0lBRXoCWPVmG"
      },
      "execution_count": null,
      "outputs": []
    },
    {
      "cell_type": "code",
      "source": [
        "#Quiero hacer un descuento a los productos que valen menos de 5 y ubicarlo dentro de otro diccionario\n",
        "\n",
        "descuentos = {productos:precio for {productos, precio_producto.items() if precios<5}}\n",
        "\n",
        "print(descuentos)\n"
      ],
      "metadata": {
        "id": "Yul-zBnyQAhZ"
      },
      "execution_count": null,
      "outputs": []
    },
    {
      "cell_type": "markdown",
      "source": [
        "# Leandro Cortés"
      ],
      "metadata": {
        "id": "g1_1t-aERv4V"
      }
    },
    {
      "cell_type": "code",
      "source": [
        "#Dictionaries using an expression, weather cities en F° anf C°\n",
        "\n",
        "def check_temp(value):\n",
        "  if value >= 70:\n",
        "    return \"hot\"\n",
        "  elif 69 >= value >= 40:\n",
        "    return \"warm\"\n",
        "  else:\n",
        "    return \"Cold\"\n",
        "\n",
        "cities = {\"New York\": 32, \"Boston\": 75, \"Los Angeles\": 100, \"Chicago\": 50}\n",
        "des_cities ={key: check_temp(value) for (key, value) in cities.items()}\n",
        "print(des_cities) "
      ],
      "metadata": {
        "id": "N7PYqZkIR1kj"
      },
      "execution_count": null,
      "outputs": []
    },
    {
      "cell_type": "code",
      "source": [
        "#Lambda\n",
        "#Dictionaries using an expression, weather cities en F° anf C°\n",
        "\n",
        "def check_temp(value):\n",
        "  if value >= 70:\n",
        "    return \"hot\"\n",
        "  elif 69 >= value >= 40:\n",
        "    return \"warm\"\n",
        "  else:\n",
        "    return \"Cold\"\n",
        "\n",
        "cities = {\"New York\": 32, \"Boston\": 75, \"Los Angeles\": 100, \"Chicago\": 50}\n",
        "des_cities = dict[map(lambda cit: check_temp(cities.values(cit), cities.items()))]\n",
        "#Another form \n",
        "des_cities ={key: check_temp(value) for (key, value) in cities.items()}\n",
        "print(des_cities) "
      ],
      "metadata": {
        "id": "duzxlToOR2ge"
      },
      "execution_count": null,
      "outputs": []
    },
    {
      "cell_type": "markdown",
      "source": [
        "# sebastian Zambrano"
      ],
      "metadata": {
        "id": "qFFFEtDDR8st"
      }
    },
    {
      "cell_type": "code",
      "source": [
        "#Diccionario por tradicional\n",
        "import random\n",
        "compañero=[]\n",
        "def aleatorio(opciones):\n",
        "  opciones = list(opciones)\n",
        "  while True:\n",
        "    x = random.choice(opciones)\n",
        "    opciones.remove(x)\n",
        "    yield x\n",
        "print(\"Para no agregar mas nombres escribe '8'\")    \n",
        "a = \"t\"\n",
        "while a!=\"0\":\n",
        "  a = input(\"Ingresa el nombre de tu compañero\")\n",
        "  if a!= \"0\";\n",
        "  compañeros.append(contador)\n",
        " contador=len(compañeros)\n",
        " contador=0\n",
        " numeros =[]\n",
        " while contador != (cantidad+1):\n",
        "   contador +=1\n",
        "   numeros.append(contador)\n",
        "   alt= aleatorio(numeros)\n",
        "   num_alt={}\n",
        "   for s in range (cantidad):\n",
        "     num_alt=[compañeros[s]]=next(alt)\n",
        "     print(num_alt)\n",
        "\n"
      ],
      "metadata": {
        "id": "rMhLmL4aR_e1"
      },
      "execution_count": null,
      "outputs": []
    },
    {
      "cell_type": "code",
      "source": [
        "#Comprension\n",
        "import random\n",
        "compañeros=[]\n",
        "def aleatorio(opciones):\n",
        "  opociones = list(opciones)\n",
        "  while True:\n",
        "    x = random.choice(opciones)\n",
        "    opciones.remove(x)\n",
        "    yield x\n",
        "print(\"Para no agregar mas nombre escribe\"0\"\")\n",
        "a = \"t\"\n",
        "while a!=\"0\":\n",
        "  a = (input(\"Ingresa el nombre de tu compañero: \"))\n",
        "  if a!=\"0\": \n",
        "    compañeros.append(a)\n",
        "    cantidad.lend(compañeros)\n",
        "    numeros=[num for num in range(1, (cantidad+1))]\n",
        "    alt = aleatorio(numeros)\n",
        "    num_alt = {orden:next(alt) for orden in compañeros}\n",
        "    print(num_alt)   \n",
        " "
      ],
      "metadata": {
        "id": "Joia_GwJUFqQ"
      },
      "execution_count": null,
      "outputs": []
    },
    {
      "cell_type": "markdown",
      "source": [
        "# Adrian Parra"
      ],
      "metadata": {
        "id": "19hAeG8irvlC"
      }
    },
    {
      "cell_type": "code",
      "source": [
        "#compresion\n",
        "nombre =str(input(\"Ingrese el nombre del atleta: \"))\n",
        "N= int(inpu(\"Ingrese el numero de saltos: \"))\n",
        "\n",
        "def fun(nombre,a):\n",
        "  lista= []\n",
        "  for i in range(0,a).:\n",
        "    name=str(f\"salto{i+1}\")\n",
        "    lista.append(name)\n",
        "\n",
        "print(\"--------------------------\")\n",
        "print(\"La altura de los saltos se mide en metros\")\n",
        "dic_lista={lista: float(input(f\"Ingrese la altura del salto: \"))} for lista in lista}\n",
        "distancia=sorted{dic.lista.value()}\n",
        "mayor=distancia[-1]\n",
        "print(\"-------------------\")\n",
        "print(f\"Atleta{nombre}:\")\n",
        "print(dic_lista)\n",
        "sum=0\n",
        "for i in dic_lista.values():\n",
        "  suma+=1\n",
        "  prom=suma/a\n",
        "  redpro.round= round(prom, 2)\n",
        "  print(f\"El promedio de los {a} saltos es de {redprom} metros, teniendo que el mayor fue aquel con {mayor} metros de altura\")\n",
        "\n",
        "fun(nombre, 5)      "
      ],
      "metadata": {
        "id": "4X3wZg92r0Aa"
      },
      "execution_count": null,
      "outputs": []
    },
    {
      "cell_type": "code",
      "source": [
        "#Lambda\n",
        "from functools import reduce\n",
        "\n",
        "nombre =str(input(\"Ingrese el nombre del atleta: \"))\n",
        "N= int(inpu(\"Ingrese el numero de saltos: \"))\n",
        "\n",
        "lista=[]\n",
        "for i in range(0, a):\n",
        "  name=str(f\"Salto {i+1}\")\n",
        "  lista.append(name)\n",
        "\n",
        "print(\"--------------------------\")\n",
        "print(\"La altura de los saltos se mide en metros\")\n",
        "dic_lista={lista: float(input(f\"Ingrese la altura del salto: \"))} for lista in lista}\n",
        "distancia=sorted{dic.lista.value()}\n",
        "mayor=distancia[-1]\n",
        "print(\"-------------------\")\n",
        "print(f\"Atleta{nombre}:\")\n",
        "print(dic_lista)\n",
        "\n",
        "sum = reduce(lambda distacia.distancias:disctancia+distancia1, distancia)\n",
        "\n",
        "\n",
        "prom=float(sum)/a\n",
        "redprom= round(prom, 2)\n",
        "print(f\"El promedio de los {a} saltos es de {redprom} metros, teniendo que el mayor fue aquel con {mayor} metros de altura\")"
      ],
      "metadata": {
        "id": "ok36R3CitoF_"
      },
      "execution_count": null,
      "outputs": []
    },
    {
      "cell_type": "markdown",
      "source": [
        "# Daniel \n"
      ],
      "metadata": {
        "id": "RVFXWCAJXYkj"
      }
    },
    {
      "cell_type": "code",
      "source": [
        "#por compresion\n",
        "\n",
        "import random\n",
        "diccionario=[\"cliente 1\", \"cliente 2\", \"cliente 3\", \"cliente 4\", \"cliente 4\", \"cliente 5\"]\n",
        "tienda = {diccionario : random.randint(1000.100000) for diccionario in diccionario}\n",
        "tienda_sort= sorted(tienda.values())\n",
        "mayor=tienda_sort[-1]\n",
        "mayor1=tienda_sort[4::1]\n",
        "cliente=list(tienda.value().index(mayor))\n",
        "if cliente==0:\n",
        "  a=\"cliente 1\"\n",
        "if cliente==1:\n",
        "  a=\"cliente 2\" \n",
        "if cliente==2:\n",
        "  a=\"cliente 3\"\n",
        "if cliente==3:\n",
        "  a=\"cliente 4\"\n",
        "if cliente==4:\n",
        "  a=\"cliente 5\"   \n",
        "oferta=(producto*0.8 for producto in mayor1)  \n",
        "print(f\"El {a} tuvo la mayor compra con un valor de: {mayor}, por lo tanto obtuvo un descuento del 20% su total fue: {oferta} \") \n",
        "   "
      ],
      "metadata": {
        "id": "wZn25uFwXawT"
      },
      "execution_count": null,
      "outputs": []
    },
    {
      "cell_type": "code",
      "source": [
        "#por funcion\n",
        "import random\n",
        "diccionario=[\"cliente 1\", \"cliente 2\", \"cliente 3\", \"cliente 4\", \"cliente 4\", \"cliente 5\"]\n",
        "def cositas(a):\n",
        "  tienda = {diccionario : random.randint(1000.100000) for diccionario in diccionario}\n",
        "  tienda_sort= sorted(tienda.values())\n",
        "  mayor=tienda_sort[-1]\n",
        "  mayor1=tienda_sort[4::1]\n",
        "  cliente=list(tienda.value().index(mayor))\n",
        "  if cliente==0:\n",
        "  a=\"cliente 1\"\n",
        "  if cliente==1:\n",
        "  a=\"cliente 2\" \n",
        "  if cliente==2:\n",
        "  a=\"cliente 3\"\n",
        "  if cliente==3:\n",
        "  a=\"cliente 4\"\n",
        "  if cliente==4:\n",
        "  a=\"cliente 5\"   \n",
        "  oferta=(producto*0.8 for producto in mayor1)  \n",
        "  print(f\"El {a} tuvo la mayor compra con un valor de: {mayor}, por lo tanto obtuvo un descuento del 20% su total fue: {oferta} \") \n",
        "  cositas(diccionario)"
      ],
      "metadata": {
        "id": "nGC9D9UmXbbj"
      },
      "execution_count": null,
      "outputs": []
    },
    {
      "cell_type": "code",
      "source": [
        "#Por lambda\n",
        "import random\n",
        "diccionario=[\"cliente 1\", \"cliente 2\", \"cliente 3\", \"cliente 4\", \"cliente 4\", \"cliente 5\"]\n",
        "tienda=(dict(map(lambda tienda:(tienda:(tienda, random.randint(1000,100000), diccionario)))\n",
        "tienda_sort=sorted(tienda.values())\n",
        "mayor=tienda_sort[-1]\n",
        "mayor1=tienda_sort[4::]\n",
        "cliente=list(tienda.values()).index(mayor)\n",
        "oferta={producto*0.8 for producto in mayor1}\n",
        "cositas=max(tienda,key=tienda.get)\n",
        "print(f\"El {cositas} tuvo la mayor compra con un valor de: {mayor}, por lo tanto obtuvo un descuento del 20% su total fue: {oferta} \")"
      ],
      "metadata": {
        "id": "laKq7vw3bmH-"
      },
      "execution_count": null,
      "outputs": []
    },
    {
      "cell_type": "markdown",
      "source": [
        "# Juan Zuluaga"
      ],
      "metadata": {
        "id": "tOM7MzNrq3cv"
      }
    },
    {
      "cell_type": "code",
      "source": [
        "#Lista de contactos\n",
        "#Comprension\n",
        "import pandas as pd\n",
        "import random\n",
        "def menu(C,E,N,n):\n",
        "  b=int(input(\"Menú:\\n1)Añadir contacto\\n2)Eliminar contacto\\n3)Lista de contacto\\n4)Darle emojis aleatorios\\n\"))\n",
        "  if b==1: #Añade contactos\n",
        "    d=input(\"Nombre: \") #Ingresa el nombre\n",
        "    f=d in N #Si el nombre ya esta en los contactos f es True, sino es false\n",
        "    while f==True:\n",
        "      d=input(\"Ya existe un contacto con ese nombre, escoja otro: \")\n",
        "      f=d in C[\"Nombre\"]\n",
        "    e=input(\"Número: \") #Ingresa el numero\n",
        "    N.append(d) #Añade el nombre a la lista N\n",
        "    n.append(e) #Añade el numero a la lista n\n",
        "  if b==2:# Elimina contactos\n",
        "    o=int(input(\"1)Eliminar por nombre\\n2)Eliminar por número\\n\")) #Da dos opciones para eliminar un contacto\n",
        "    if o==1: #Eliminar por nombre\n",
        "      d=input(\"Nombre: \") #Ingresa el nombre\n",
        "      f=d in N #Si el nombre ya esta en los contactos f es True, sino es false\n",
        "      if f==False:#Si ese contacto no existe en la lista\n",
        "        print(\"No existe un contacto con ese nombre\")\n",
        "      else:\n",
        "        i=N.index(d) #Busca la posición del Nombre\n",
        "        N.pop(i) #Elimina el nombre en esa posicion\n",
        "        n.pop(i) #Elimina el número en esa posicion\n",
        "    if o==2: #Eliminar por número\n",
        "      e=input(\"Número: \") #Ingresa el número\n",
        "      h= e in N #Si el numero ya esta en los contactos h es True, sino es false\n",
        "      if h==False: #Si ese contacto no existe en la lista\n",
        "        print(\"No existe un contacto con ese número\")\n",
        "      else:\n",
        "        i=n.index(e) #Busca la posición del Nombre\n",
        "        N.pop(i) #Elimina el nombre en esa posicion\n",
        "        n.pop(i) #Elimina el número en esa posicion\n",
        "  if b==3:#Imprime la lista de contactos\n",
        "    C={N[z]: n[z] for z in range(len(N)) }\n",
        "    print(C)\n",
        "  if b==4:#Le da emojis aleatorios a los contactos \n",
        "    C={N[z]: (n[z],E[random.randint(0,3)]) for z in range(len(N)) }\n",
        "    print(pd.DataFrame.from_dict(C)) #La imprime bonito con pandas\n",
        "\n",
        "  return C\n",
        "    \n",
        "C={}\n",
        "E=[\"B)\",\":)\",\"<3\",\">:v\"]#Emojis\n",
        "N=[\"juan\",\"Kyle\"]#Nombres default\n",
        "n=[\"453\",\"64782\"]#Números default\n",
        "\n",
        "a=True\n",
        "while a==True:\n",
        "  menu(C,E,N,n)"
      ],
      "metadata": {
        "id": "UpiDFx-Uq6RZ"
      },
      "execution_count": null,
      "outputs": []
    },
    {
      "cell_type": "code",
      "source": [],
      "metadata": {
        "id": "uOzBM6fsrxvC"
      },
      "execution_count": null,
      "outputs": []
    }
  ]
}