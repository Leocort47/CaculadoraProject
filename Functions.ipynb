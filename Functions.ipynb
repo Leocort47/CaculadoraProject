{
  "nbformat": 4,
  "nbformat_minor": 0,
  "metadata": {
    "colab": {
      "provenance": []
    },
    "kernelspec": {
      "name": "python3",
      "display_name": "Python 3"
    },
    "language_info": {
      "name": "python"
    }
  },
  "cells": [
    {
      "cell_type": "code",
      "execution_count": null,
      "metadata": {
        "id": "RJNCSJXQNJ1m"
      },
      "outputs": [],
      "source": []
    },
    {
      "cell_type": "code",
      "source": [
        "#La función \"informacion personal\"\n",
        "\n",
        "def calcularEdad(actualYear,birthday):\n",
        "      age = actualYear - birthday\n",
        "      return age\n",
        "  \n",
        "actualYear = int(input(\"Digita el año actual: \"))\n",
        "birthday= int(input(\"En que año naciste: \"))\n",
        "birthday_Friend= int(input(\"En que año nacio tu amigo: \"))\n",
        "\n",
        "age = actualYear - birthday\n",
        "ageFriend= actualYear - birthday_Friend\n",
        "miEdad = age\n",
        "amigo = ageFriend\n",
        "\n",
        "print(f\"tengo {miEdad} y mi mejor amigo {amigo}\")\n",
        "print()\n",
        "    \n",
        "\n",
        "#calcularEdad(2022,1998)\n",
        "#calcularEdad(2022,2000)\n",
        "\n",
        "\n",
        "  \n",
        "  \n",
        "\n",
        "\n"
      ],
      "metadata": {
        "colab": {
          "base_uri": "https://localhost:8080/"
        },
        "id": "xRhV8hJqNNS2",
        "outputId": "3a555ed6-59c9-4a68-beab-3fc38522566f"
      },
      "execution_count": 2,
      "outputs": [
        {
          "output_type": "stream",
          "name": "stdout",
          "text": [
            "Digita el año actual: 2022\n",
            "En que año naciste: 1998\n",
            "En que año nacio tu amigo: 2000\n",
            "tengo 24 y mi mejor amigo 22\n"
          ]
        }
      ]
    },
    {
      "cell_type": "code",
      "source": [
        "#La función \"informacionPersonal\" recoge la información personal de una persona\n",
        "\n",
        "def informacionPersonal(name, age, country):\n",
        "  name=\"Juana de Arco\"\n",
        "  age=19\n",
        "  country=\"France\"\n",
        "  print(name+\", from \"+country+\", is \" + str(age)+ \" years old\")\n",
        "  return name, age, country\n",
        "\n",
        "informacionPersonal(\"Juana de Arco\", 19, \"France\")\n",
        "\n",
        "\n",
        "\n",
        "\n",
        "\n"
      ],
      "metadata": {
        "colab": {
          "base_uri": "https://localhost:8080/"
        },
        "id": "7TgECrSVcpaj",
        "outputId": "7764bcf8-5f77-4bc1-cb4f-4966753a87c0"
      },
      "execution_count": 11,
      "outputs": [
        {
          "output_type": "stream",
          "name": "stdout",
          "text": [
            "Juana de Arco, from France, is 19 years old\n"
          ]
        },
        {
          "output_type": "execute_result",
          "data": {
            "text/plain": [
              "('Juana de Arco', 19, 'France')"
            ]
          },
          "metadata": {},
          "execution_count": 11
        }
      ]
    }
  ]
}