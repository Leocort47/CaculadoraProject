{
  "nbformat": 4,
  "nbformat_minor": 0,
  "metadata": {
    "colab": {
      "provenance": [],
      "collapsed_sections": []
    },
    "kernelspec": {
      "name": "python3",
      "display_name": "Python 3"
    },
    "language_info": {
      "name": "python"
    }
  },
  "cells": [
    {
      "cell_type": "code",
      "execution_count": null,
      "metadata": {
        "id": "oyfGsA2TthW8"
      },
      "outputs": [],
      "source": []
    },
    {
      "cell_type": "markdown",
      "source": [
        "# Pares e impares\n",
        "Ejemplo de Jesus"
      ],
      "metadata": {
        "id": "vqmLMVYottOW"
      }
    },
    {
      "cell_type": "code",
      "source": [
        "#Comprensión\n",
        "n=int(input(\"Hasta que número quieres imprimir los pares e impares: \"))\n",
        "pares=[número for número in range(0,n+1) if número%2==0]\n",
        "print(pares)\n",
        "impares=[número for número in range(0,n+1) if número%2!=0]\n",
        "print(impares)"
      ],
      "metadata": {
        "id": "JFhprBkVtwyM"
      },
      "execution_count": null,
      "outputs": []
    },
    {
      "cell_type": "code",
      "source": [
        "#Tradicional\n",
        "num=int(input(\"hasta que número quieres imprimir los pares e impares: \"))\n",
        "def hola(n):\n",
        " pares=[número for número in range(0,n+1) if número%2==0]\n",
        " print(pares)\n",
        " impares=[número for número in range(0,n+1) if número%2!=0]\n",
        " print(impares)\n",
        "hola(num)"
      ],
      "metadata": {
        "id": "XjmuZH25tzUs"
      },
      "execution_count": null,
      "outputs": []
    },
    {
      "cell_type": "code",
      "source": [
        "#Lambda\n",
        "num=int(input(\"hasta que número quieres imprimir los pares e impares: \"))\n",
        "mi_lista=[n for n in range(0,num+1)]\n",
        "pares=list(filter(lambda num:num%2==0,mi_lista))\n",
        "print(pares)\n",
        "impares=list(filter(lambda num:num%2!=0,mi_lista))\n",
        "print(impares)"
      ],
      "metadata": {
        "id": "Go4Y1ia5t06s"
      },
      "execution_count": null,
      "outputs": []
    },
    {
      "cell_type": "markdown",
      "source": [
        "# Ejemplo de Samuel"
      ],
      "metadata": {
        "id": "Yax_xGCit3Vs"
      }
    },
    {
      "cell_type": "code",
      "source": [
        "#Comprensión\n",
        "n=int(input(\"Hasta que numero quieres imprimir los pares e impares\"))\n",
        "pares = [numero for numero in range(0,n+1) if numero%2==0]\n",
        "pares\n",
        "impares=[numero for numero in range(0,n+1) if numero%2!=0]\n",
        "impares"
      ],
      "metadata": {
        "id": "foWYadaXt4l0"
      },
      "execution_count": null,
      "outputs": []
    },
    {
      "cell_type": "code",
      "source": [
        "#Tradicional con def\n",
        "num=int(input(\"Hasta que numero quieres imprimir los pares e impares\"))\n",
        "def hola(n):\n",
        "  pares = [numero for numero in range(0,n+1) if numero%2==0]\n",
        "  pares\n",
        "  impares=[numero for numero in range(0,n+1) if numero%2!=0]\n",
        "  impares\n",
        "hola(num)"
      ],
      "metadata": {
        "id": "vN06kVrPt6h0"
      },
      "execution_count": null,
      "outputs": []
    },
    {
      "cell_type": "code",
      "source": [
        "#Con lambda y filter\n",
        "num=int(input(\"Hasta que numero quieres imprimir los pares e impares\"))\n",
        "mi_lista = [n for n in range(0,num+1)]\n",
        "pares = list(filter(lambda num:num%2==0, mi_lista))\n",
        "pares\n",
        "impares = list(filter(lambda num:num%2!=0, mi_lista))\n",
        "impares"
      ],
      "metadata": {
        "id": "CJaJ2I8dt9Ib"
      },
      "execution_count": null,
      "outputs": []
    },
    {
      "cell_type": "markdown",
      "source": [
        "# Ejemplo de Jhonsito"
      ],
      "metadata": {
        "id": "ePVmBPhnt-sD"
      }
    },
    {
      "cell_type": "code",
      "source": [
        "#Tradicional\n",
        "def perfecto(numero):\n",
        "  perf=0\n",
        "  for i in range(1,numero):\n",
        "    if numero%i==0:\n",
        "      perf+=i\n",
        "  if perf==numero:\n",
        "    print(\"Es un numero perfecto\")\n",
        "    return True\n",
        "  else:\n",
        "    print(\"No es un numero perfecto\")\n",
        "numero = 6\n",
        "perfecto(numero)"
      ],
      "metadata": {
        "id": "ac557cIRt_-b"
      },
      "execution_count": null,
      "outputs": []
    },
    {
      "cell_type": "code",
      "source": [
        "#Comprensión\n",
        "def numeros():\n",
        "  a = int(input(\"Ingresa un numero\"))\n",
        "  b = int(input(\"Ingresa un numero\"))\n",
        "  c = int(input(\"Ingresa un numero\"))\n",
        "  d = int(input(\"Ingresa un numero\"))\n",
        "  perfect=[a,b,c,d]\n",
        "\n",
        "  perfect1=[elemento for elemento in perfect if perfecto(elemento)==True]\n",
        "numeros()"
      ],
      "metadata": {
        "id": "mfHkBulSuByz"
      },
      "execution_count": null,
      "outputs": []
    },
    {
      "cell_type": "code",
      "source": [
        "#Con lambda y map\n",
        "lista = [2,3,6,4]\n",
        "perfect2 = list(map(lambda elemento:perfecto(elemento)==True,lista))\n",
        "perfect2"
      ],
      "metadata": {
        "id": "uu7s5PgvuEo7"
      },
      "execution_count": null,
      "outputs": []
    },
    {
      "cell_type": "markdown",
      "source": [
        "# Juan David"
      ],
      "metadata": {
        "id": "T04HZxGZuFcr"
      }
    },
    {
      "cell_type": "code",
      "source": [
        "import random \n",
        "#metodo clasico\n",
        "numero1 = [random.randint(0,2000) for x in range(100)]\n",
        "numero2 = [random.randint(0,2000) for x in range(100)]\n",
        "comun = []\n",
        "for a in numero1:\n",
        "  for b in numero2:\n",
        "    if a == b:\n",
        "      comun.append(a)\n",
        "print(comun)"
      ],
      "metadata": {
        "id": "tA5Kdla-uKkz"
      },
      "execution_count": null,
      "outputs": []
    },
    {
      "cell_type": "code",
      "source": [
        "import random\n",
        "#lambda y filter\n",
        "numero1 = [random.randint(0,2000) for x in range(100)]\n",
        "numero2 = [random.randint(0,2000) for x in range(100)]\n",
        "comun = []\n",
        "comun = list(filter(lambda num: num in numero1, numero2))\n",
        "print(comun)\n"
      ],
      "metadata": {
        "id": "0vG0yW9JuMW7"
      },
      "execution_count": null,
      "outputs": []
    },
    {
      "cell_type": "code",
      "source": [
        "#metodo comprension \n",
        "\n",
        "import random\n",
        "numero1 = [random.randint(0,2000) for x in range(100)]\n",
        "numero2 = [random.randint(0,2000) for x in range(100)]\n",
        "comun = [x for x in numero1 for y in numero2 if x==y]\n",
        "print(comun)\n",
        "\n"
      ],
      "metadata": {
        "id": "zNmv4DrNopXE"
      },
      "execution_count": null,
      "outputs": []
    },
    {
      "cell_type": "markdown",
      "source": [
        "# Angie Gonzalez"
      ],
      "metadata": {
        "id": "m43GAvResGYt"
      }
    },
    {
      "cell_type": "code",
      "source": [
        "nom1 = {\"Samuelle\", \"Angie\", \"Valentina\", \" Alejandro\", \"Johnsito\"}\n",
        "nom2 = {\"Samuelle\", \"Angie\", \"Valentina\", \" Alejandro\", \"Johnsito\"}\n"
      ],
      "metadata": {
        "id": "gDV3fndGsL_a"
      },
      "execution_count": null,
      "outputs": []
    },
    {
      "cell_type": "code",
      "source": [
        "#Por comprensión\n",
        "\n",
        "common={a for a in nom1 for b in nom2 if a==b}\n",
        "common\n"
      ],
      "metadata": {
        "id": "sjMnmtMvuHnx"
      },
      "execution_count": null,
      "outputs": []
    },
    {
      "cell_type": "code",
      "source": [
        "#Por lambda\n",
        "common1 =lambda nom1 , nom2: common\n",
        "print(common1(nom1,nom2))"
      ],
      "metadata": {
        "id": "P8og6wwruWLZ"
      },
      "execution_count": null,
      "outputs": []
    },
    {
      "cell_type": "code",
      "source": [
        "#por Def\n",
        "\n",
        "def common(nom1, nom2):\n",
        "  return nom1, nom2"
      ],
      "metadata": {
        "id": "AEbYahgbul1S"
      },
      "execution_count": null,
      "outputs": []
    },
    {
      "cell_type": "code",
      "source": [
        "nom1, nom2"
      ],
      "metadata": {
        "id": "5Achd-lFux0p"
      },
      "execution_count": null,
      "outputs": []
    },
    {
      "cell_type": "markdown",
      "source": [
        "# Valentina Sanchez"
      ],
      "metadata": {
        "id": "05fYa5MswwOA"
      }
    },
    {
      "cell_type": "code",
      "source": [
        "#Tradicional \n",
        "\n",
        "def listaIMC(usuarios):\n",
        "  sis= []\n",
        "  imc = []\n",
        "  b=0\n",
        "  a2=0\n",
        "\n",
        "  for n in range(usuarios):\n",
        "    w =input(\"¿cuál es tu nombre? \")\n",
        "    b =int(input(\"Ingresa el peso: \"))\n",
        "    a2 = float(input(\"Ingresa la altura: \"))\n",
        "    sis.append((w,b/a2**2))\n",
        "    imc.append(b/a2**2)\n",
        "  return sis, imc\n",
        "\n",
        "user =int(input(\"Cuantos usuarios hay? \"))\n",
        "sis,imc = listaIMC(user)  \n"
      ],
      "metadata": {
        "id": "wQ6mmVtIw173"
      },
      "execution_count": null,
      "outputs": []
    },
    {
      "cell_type": "code",
      "source": [
        "imc"
      ],
      "metadata": {
        "id": "JZUR9FWmx3UX"
      },
      "execution_count": null,
      "outputs": []
    },
    {
      "cell_type": "code",
      "source": [
        "#comprensión\n",
        "\n",
        "sis = listaIMC(user)\n",
        "sis2= [n for n in imc if n>= 18.5]\n",
        "print(sis2)\n",
        "\n"
      ],
      "metadata": {
        "id": "3uo8O4stx6EG"
      },
      "execution_count": null,
      "outputs": []
    },
    {
      "cell_type": "markdown",
      "source": [
        "# Christian"
      ],
      "metadata": {
        "id": "xzjQSIlj39ox"
      }
    },
    {
      "cell_type": "code",
      "source": [
        "lista=[]\n",
        "x = 0\n",
        "while x==0:\n",
        "  entrada = input(\"Ingresa un codigo: \")\n",
        "  lista.append(entrada)\n",
        "  a = int(input(\"Deseas ingreasar otro?, ingresa0 si lo deseas, sino ingresa 1 \"))\n",
        "  if (a==1):\n",
        "    x=x+1\n",
        "\n",
        "calificacion = [a for a in lista if a.startswith(\"U00\") and len(a)==9]\n",
        "print(f\"Hay{len(clasificacion)} estudiante(s) de la Unab y sus codigos(s) son {clasificacion}\")   \n",
        "\n",
        "calificacion = [a for a in lista if a.startswith(\"A00\") and len(a)==9]\n",
        "print(f\"Hay{len(clasificacion)} estudiante(s) de la Unab y sus codigos(s) son {clasificacion}\") \n"
      ],
      "metadata": {
        "id": "mZ5hPvpx4Alh"
      },
      "execution_count": null,
      "outputs": []
    },
    {
      "cell_type": "code",
      "source": [
        "def funcion(lista, numDigitos, Universidad, clasCodigo):\n",
        "  clasificacion = [a for a in lista if a.startswith(clasCodigo) and len(a)==numDigitos]\n",
        "  print(f\"Hay{len(clasificacion)} estudiante(s) de la Unab y sus codigos(s) son {clasificacion}\") \n",
        "\n",
        "lista=[]\n",
        "x=0\n",
        "while x== 0:\n",
        "    entrada = input(\"Ingresa un codigo \")\n",
        "    lista.append(entrada)\n",
        "    a = int(input(\"Deseas ingresar otro?, ingresa 0 si lo deseas, sino ingresa 1\"))\n",
        "    if (a==1):\n",
        "      x=x+1\n",
        "\n",
        "funcion(lista,9, \"La Unab\", \"U00\")\n",
        "funcion(lista,9,\"Los Andes\",\"A000\")"
      ],
      "metadata": {
        "id": "XE1H5m_G5k4a"
      },
      "execution_count": null,
      "outputs": []
    },
    {
      "cell_type": "code",
      "source": [
        "lista=[]\n",
        "x=0\n",
        "while x== 0:\n",
        "    entrada = input(\"Ingresa un codigo \")\n",
        "    lista.append(entrada)\n",
        "    a = int(input(\"Deseas ingresar otro?, ingresa 0 si lo deseas, sino ingresa 1\"))\n",
        "    if (a==1):\n",
        "      x=x+1\n",
        "\n",
        "lista1 = [\"U00123456\",\"U001233434\",\"U00156837\"]\n",
        "clasificacion = list(map(lambda a: \"UNAB\" if a.startswith(\"U00\") or a.startswith(\"u00\") else \"los Andes\" if a.startswith(\"A000\") or  a.startswith(\"a000\") else None, lista))      "
      ],
      "metadata": {
        "id": "E3YgUPaeo07_"
      },
      "execution_count": null,
      "outputs": []
    },
    {
      "cell_type": "code",
      "source": [
        "lista1 = [\"U00123456\",\"U001233434\",\"U00156837\"]\n",
        "clasificacion = list(map(lambda a: print(f\"Hay {len(clasificacion)} estudiantes de la Unab\") if a.startswith(\"U00\") or a.startswith(\"u00\") else print[f\"hay {len(clasificacion)}\"]"
      ],
      "metadata": {
        "id": "MZuqhiibp4Om"
      },
      "execution_count": null,
      "outputs": []
    }
  ]
}