{
  "nbformat": 4,
  "nbformat_minor": 0,
  "metadata": {
    "colab": {
      "provenance": []
    },
    "kernelspec": {
      "name": "python3",
      "display_name": "Python 3"
    },
    "language_info": {
      "name": "python"
    }
  },
  "cells": [
    {
      "cell_type": "markdown",
      "source": [
        "# herencia"
      ],
      "metadata": {
        "id": "XpitmsPfhJLB"
      }
    },
    {
      "cell_type": "code",
      "source": [
        "class Humanos():\n",
        "  def __init__(self, nombre,ojos, brazos, piernas, cabello, orejas,estatura,peso,contextura,sexo, rh):\n",
        "    self.nombre= nombre\n",
        "    self.ojos= ojos\n",
        "    self.brazos= brazos\n",
        "    self.piernas= piernas\n",
        "    self.orejas= orejas \n",
        "    self.estatura = estatura\n",
        "    self.peso = peso\n",
        "    self.contextura= contextura\n",
        "    self.sexo= sexo\n",
        "    self.rh = rh \n",
        "\n",
        "  #método de tipo estático\n",
        "   def movilizarse(self, vel):\n",
        "\n",
        "     if vel <0:\n",
        "        return f\"{self.nombre} esta retrocediendo\" \n",
        "        vel= -vel\n",
        "        return vel\n",
        "     if vel==0:\n",
        "       return f\"{self.nombre} esta en estado de reposo\"\n",
        "     elif vel >=1 and vel <=5:\n",
        "       return f\"{self.nombre} esta caminando\" \n",
        "     elif vel >5 and vel<=6:\n",
        "       return f\"{self.nombre} esta trotando\" \n",
        "     elif vel >6 and vel<=10:\n",
        "       return f\"{self.nombre} esta corriendo\" \n",
        "      elif vel >10 and vel<=700:\n",
        "       return f\"{self.nombre} esta volando\"\n",
        "       else:\n",
        "         return f\"{self.nombre} no es un humano\"\n",
        "\n",
        "     \n",
        "\n",
        "    def weight(self, morfologia):\n",
        "      if weight<= 50:\n",
        "        return f\"{self.morfologia} esta bajo de peso\"\n",
        "      elif weight > 50 or weight <= 70: \n",
        "        return f\"{self.morfologia} esta con peso estable\"  \n",
        "\n",
        "\n",
        "     def trabajar(self, trabajo):\n",
        "       if trabajo==0:\n",
        "         print({self.nombre}, \"Esta desempleado\")\n",
        "       elif trabajo== \"ingeniero\":\n",
        "         print({self.nombre}, \" tiene una buena posición\")\n",
        "      elif trabajo== \"Doctor\":\n",
        "        print({self.nombre}, \" Trabaja en un hospital\")\n",
        "      elif trabajo ==\"Odontologo\"\n",
        "        print({self.nombre}, \" Trabaja en salud oral\")\n",
        "      elif trabajo ==\"maestro\"\n",
        "        print({self.nombre}, \" Trabaja enseñando\")\n",
        "      elif trabajo ==\"luchador\"\n",
        "        print({self.nombre}, \" muestra sus habilidades contra otro peleador en publico\")\n",
        "      elif trabajo ==\"caza recompensas\"\n",
        "        print({self.nombre}, \" busca tesoros\")  \n",
        "\n",
        "\n",
        "\n",
        "        \n",
        "      \n",
        "\n",
        "\n"
      ],
      "metadata": {
        "id": "b-SSk1pjhLVQ"
      },
      "execution_count": null,
      "outputs": []
    },
    {
      "cell_type": "code",
      "source": [
        "class Sayayin():\n",
        "  def __init__(self, nombre,ojos, brazos, piernas, cabello, orejas,estatura,peso,contextura,sexo, rh):\n",
        "    self.nombre= nombre\n",
        "    self.ojos= ojos\n",
        "    self.brazos= brazos\n",
        "    self.piernas= piernas\n",
        "    self.orejas= orejas \n",
        "    self.estatura = estatura\n",
        "    self.peso = peso\n",
        "    self.contextura= contextura\n",
        "    self.sexo= sexo\n",
        "    self.rh = rh \n",
        "    self.cola_de_mono=True\n",
        "\n",
        "  #método de tipo estático\n",
        "   def movilizarse(self, vel):\n",
        "\n",
        "   def transformación(self, cola, luna):\n",
        "     if self.cola_de_mono and self.luna==True:\n",
        "       print(f\"{self.nombre} se convierte en un mono gigante\")\n",
        "     elif luna== False and self.cola_de_mono:\n",
        "       print(f\"{self.nombre} no se convierte en mono\")  \n",
        "     else:\n",
        "       print(f\"{self.nombre} no se convierte en mono\")  \n",
        "\n",
        "\n",
        "  def trabajar(self, trabajo):\n",
        "    jobs=[\"guerrero\",\"mercenario\",\"grnajero\",\"rey\",\"principe\"]\n",
        "    if jobs[trabajo] in trabajo:\n",
        "      if trabajo==0:\n",
        "        print(self.nombre, \"esta\", jobs[trabajo])\n"
      ],
      "metadata": {
        "id": "P4Tz3iDesnnm"
      },
      "execution_count": null,
      "outputs": []
    },
    {
      "cell_type": "code",
      "source": [
        "class Hibridos(Sayayin, Humanos):\n",
        "  def poderes():\n",
        "    print(self.nombre \"puede transformarce en modo bestia\")\n"
      ],
      "metadata": {
        "id": "GRrKwH6-u7MW"
      },
      "execution_count": null,
      "outputs": []
    },
    {
      "cell_type": "code",
      "source": [
        "gohan=Hibiridos(\"gohan\",)"
      ],
      "metadata": {
        "id": "TTttvmVJwCc8"
      },
      "execution_count": null,
      "outputs": []
    }
  ]
}