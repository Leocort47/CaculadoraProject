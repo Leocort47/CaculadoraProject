{
  "nbformat": 4,
  "nbformat_minor": 0,
  "metadata": {
    "colab": {
      "provenance": [],
      "collapsed_sections": []
    },
    "kernelspec": {
      "name": "python3",
      "display_name": "Python 3"
    },
    "language_info": {
      "name": "python"
    }
  },
  "cells": [
    {
      "cell_type": "code",
      "source": [
        "class Fraccion:\n",
        "  #Atributos de clase\n",
        "  num=0\n",
        "  den=1\n",
        "  def __init__(self,num=0,den=1):\n",
        "    self.num=num\n",
        "    self.den=den\n",
        "  def imprimir(self):\n",
        "    print(f\"{self.num}/{self.den}\")\n",
        "  def multiplica(self,b):\n",
        "    if b.den==0 or self.den==0:\n",
        "      return \"No se puede hacer operaciones con fracciones de denominador 0\"\n",
        "    else:\n",
        "      num=self.num*b.num\n",
        "      den=self.den*b.den\n",
        "      r=Fraccion(num,den)\n",
        "    return r\n",
        "  def suma(self,b):\n",
        "    if b.den==0 or self.den==0:\n",
        "      return \"No se puede hacer operaciones con fracciones de denominador 0\"\n",
        "    else:\n",
        "     if self.den==b.den:\n",
        "       num=self.num+b.num\n",
        "       den=self.den\n",
        "     else:\n",
        "       den=self.den*b.den\n",
        "       num=(self.num*b.den)+(b.num*self.den)\n",
        "    r=Fraccion(num,den)\n",
        "    return r\n",
        "  def resta(self,b):\n",
        "    if b.den==0 or self.den==0:\n",
        "      return \"No se puede hacer operaciones con fracciones de denominador 0\"\n",
        "    else:\n",
        "     if self.den==b.den:\n",
        "       num=self.num-b.num\n",
        "       den=self.den\n",
        "     else:\n",
        "       den=self.den*b.den\n",
        "       num=(self.num*b.den)-(b.num*self.den)\n",
        "    r=Fraccion(num,den)\n",
        "    return r\n",
        "  def div(self,b):\n",
        "    if b.den==0 or self.den==0:\n",
        "      return \"No se puede hacer operaciones con fracciones de denominador 0\"\n",
        "    else:\n",
        "      num=self.num*b.den\n",
        "      den=self.den*b.num\n",
        "      r=Fraccion(num,den)\n",
        "    return r\n",
        "  def potencia(self,c):\n",
        "    if self.potencia==0:\n",
        "      num=1\n",
        "      den=1\n",
        "    elif self.potencia<0:\n",
        "      self.num, self.den=self.den,self.num\n",
        "      self.potencia=self.pot*-1\n",
        "      num=self.num**self.potencia\n",
        "      den=self.den**self.potencia\n",
        "    else:\n",
        "      num=self.num**self.potencia\n",
        "      den=self.den**self.potencia\n",
        "      potencia=self.potencia\n",
        "      c=Fraccion(num,den,potencia)\n",
        "      print(f\"{c.num} / {c.den}\")\n",
        "      return c       "
      ],
      "metadata": {
        "id": "iP6wlx-m4ILf"
      },
      "execution_count": null,
      "outputs": []
    },
    {
      "cell_type": "code",
      "source": [
        "def imprimir(r):\n",
        "  if type(r)==str:\n",
        "    print(r)\n",
        "  else:\n",
        "    r.imprimir()"
      ],
      "metadata": {
        "id": "rghx3ZFf4PTv"
      },
      "execution_count": null,
      "outputs": []
    },
    {
      "cell_type": "code",
      "source": [
        "a=Fraccion(7,8)\n",
        "a.imprimir()"
      ],
      "metadata": {
        "id": "jtfPLDjx4Qje"
      },
      "execution_count": null,
      "outputs": []
    },
    {
      "cell_type": "code",
      "source": [
        "b=Fraccion(2,1)"
      ],
      "metadata": {
        "id": "kq4yb9GA4SWv"
      },
      "execution_count": null,
      "outputs": []
    },
    {
      "cell_type": "code",
      "source": [
        "r=a.suma(b)\n",
        "imprimir(r)"
      ],
      "metadata": {
        "id": "JGLYU6tD4UEX"
      },
      "execution_count": null,
      "outputs": []
    },
    {
      "cell_type": "code",
      "source": [
        "r=a.resta(b)\n",
        "imprimir(r)"
      ],
      "metadata": {
        "id": "OvxLwn6B4XBn"
      },
      "execution_count": null,
      "outputs": []
    },
    {
      "cell_type": "code",
      "source": [
        "r=a.multiplica(b)\n",
        "imprimir(r)"
      ],
      "metadata": {
        "id": "n2UQd1834Xnv"
      },
      "execution_count": null,
      "outputs": []
    },
    {
      "cell_type": "code",
      "source": [
        "r=a.div(b)\n",
        "imprimir(r)"
      ],
      "metadata": {
        "id": "O2sejZV94ZzH"
      },
      "execution_count": null,
      "outputs": []
    },
    {
      "cell_type": "code",
      "source": [
        "r=a.potencia(c)\n",
        "imprimir(r)"
      ],
      "metadata": {
        "id": "_Gl-YyLR4bkf"
      },
      "execution_count": null,
      "outputs": []
    }
  ]
}