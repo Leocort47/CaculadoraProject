{
  "nbformat": 4,
  "nbformat_minor": 0,
  "metadata": {
    "colab": {
      "provenance": []
    },
    "kernelspec": {
      "name": "python3",
      "display_name": "Python 3"
    },
    "language_info": {
      "name": "python"
    }
  },
  "cells": [
    {
      "cell_type": "code",
      "execution_count": 5,
      "metadata": {
        "colab": {
          "base_uri": "https://localhost:8080/"
        },
        "id": "H0y7ZVzUgkax",
        "outputId": "a5154237-dbad-4ea7-dc60-6aa186986300"
      },
      "outputs": [
        {
          "output_type": "stream",
          "name": "stdout",
          "text": [
            "Ingrese cuantos numeros aleatorios desea obtener\n",
            "5\n",
            "[0.8237608432492008, 0.19164010285391564, 0.30444702229639276, 0.3953619859317884, 0.715989365576075]\n"
          ]
        }
      ],
      "source": [
        "#Listas ejercicio\n",
        "import random\n",
        "def listaAleatorios(n):\n",
        "      lista = [0]  * n\n",
        "      for i in range(n):\n",
        "          lista[i] = random.random()\n",
        "      return lista\n",
        "\n",
        "print(\"Ingrese cuantos numeros aleatorios desea obtener\")\n",
        "n=int(input())\n",
        "\n",
        "aleatorios=listaAleatorios(n)\n",
        "print(aleatorios)"
      ]
    },
    {
      "cell_type": "markdown",
      "source": [
        "# Diccionarios"
      ],
      "metadata": {
        "id": "gn_c1ZOHiYwV"
      }
    },
    {
      "cell_type": "code",
      "source": [
        "import random\n",
        "clientes = [\"Alex\",\"Bob\",\"Carol\",\"Dave\",\"Flow\",\"Katie\",\"Nate\"]\n",
        "diccionario_descuentos = {cliente:random.randint(1,100) for cliente in clientes}\n",
        "print(diccionario_descuentos)\n",
        "#Resultado"
      ],
      "metadata": {
        "colab": {
          "base_uri": "https://localhost:8080/"
        },
        "id": "ohxSn-zyia_T",
        "outputId": "842a0887-5991-4179-ff1c-eba178dec0f9"
      },
      "execution_count": 1,
      "outputs": [
        {
          "output_type": "stream",
          "name": "stdout",
          "text": [
            "{'Alex': 82, 'Bob': 13, 'Carol': 11, 'Dave': 68, 'Flow': 80, 'Katie': 10, 'Nate': 11}\n"
          ]
        }
      ]
    },
    {
      "cell_type": "code",
      "source": [
        "#Dictionary comprehension\n",
        "\n",
        "square ={num:num **2 for num in range(1,11) }\n",
        "print(square)"
      ],
      "metadata": {
        "colab": {
          "base_uri": "https://localhost:8080/"
        },
        "id": "BFkxN9BviyBk",
        "outputId": "7359e5d9-503d-4c20-97c1-120b412c3d95"
      },
      "execution_count": 2,
      "outputs": [
        {
          "output_type": "stream",
          "name": "stdout",
          "text": [
            "{1: 1, 2: 4, 3: 9, 4: 16, 5: 25, 6: 36, 7: 49, 8: 64, 9: 81, 10: 100}\n"
          ]
        }
      ]
    },
    {
      "cell_type": "code",
      "source": [
        "#Factorial dictionary comprenhension\n",
        "\n",
        "import math\n",
        "fact_dict = {i:math.factorial(i) for i in range(1,9)}\n",
        "print(fact_dict)"
      ],
      "metadata": {
        "colab": {
          "base_uri": "https://localhost:8080/"
        },
        "id": "ReP13l3s02jJ",
        "outputId": "c2277d08-8f61-4b42-ea33-dadf14bd052c"
      },
      "execution_count": 9,
      "outputs": [
        {
          "output_type": "stream",
          "name": "stdout",
          "text": [
            "{1: 1, 2: 2, 3: 6, 4: 24, 5: 120, 6: 720, 7: 5040, 8: 40320}\n"
          ]
        }
      ]
    },
    {
      "cell_type": "code",
      "source": [
        "#Dictionaries using an expression, weather cities en F° anf C°\n",
        "\n",
        "def check_temp(value):\n",
        "  if value >= 70:\n",
        "    return \"hot\"\n",
        "  elif 69 >= value >= 40:\n",
        "    return \"warn\"\n",
        "  else:\n",
        "    return \"Cold\"\n",
        "\n",
        "cities = {\"New York\": 32, \"Boston\": 75, \"Los Angeles\": 100, \"Chicago\": 50}\n",
        "des_cities ={key: check_temp(value) for (key, value) in cities.items()}\n",
        "print(des_cities)    \n",
        "\n",
        "\n",
        "# cities_in_F ={\"New York\": 32, \"Boston\": 75, \"Los Angeles\": 100, \"Chicago\": 50}\n",
        "# cities_in_C ={key: round((value-32)*(5/9)) for(key, value) in cities_in_F.iteams()} \n",
        "# print(cities_in_C)\n",
        "\n",
        "# weather={\"New York\": \"Snowing\", \"Boston\": \"Sunny\", \"Los Angeles\": \"Sunny\", \"Chicago\": \"Cloudy\"}\n",
        "# sunny_weather ={key: value for (key, value) in weather.iteams() if value== \"Sunny\"}\n",
        "# print(sunny_weather)\n",
        "\n",
        "# cities = {\"New York\": 32, \"Boston\": 75, \"Los Angeles\": 100, \"Chicago\": 50}\n",
        "# desc_cities= {key: (\"Warm\" if value >= 40 else \"Cold\") for (key, value) in cities.items()}\n",
        "# print(desc_cities)\n",
        "\n",
        "\n",
        "                         "
      ],
      "metadata": {
        "colab": {
          "base_uri": "https://localhost:8080/"
        },
        "id": "_Hxr-rGXmcY9",
        "outputId": "7867b27e-dac4-4ee0-de64-4234f57e428d"
      },
      "execution_count": 7,
      "outputs": [
        {
          "output_type": "stream",
          "name": "stdout",
          "text": [
            "{'New York': 'Cold', 'Boston': 'hot', 'Los Angeles': 'hot', 'Chicago': 'warn'}\n"
          ]
        }
      ]
    }
  ]
}