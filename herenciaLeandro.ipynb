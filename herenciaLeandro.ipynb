{
  "nbformat": 4,
  "nbformat_minor": 0,
  "metadata": {
    "colab": {
      "provenance": [],
      "collapsed_sections": []
    },
    "kernelspec": {
      "name": "python3",
      "display_name": "Python 3"
    },
    "language_info": {
      "name": "python"
    }
  },
  "cells": [
    {
      "cell_type": "markdown",
      "source": [
        "# herencia"
      ],
      "metadata": {
        "id": "XpitmsPfhJLB"
      }
    },
    {
      "cell_type": "code",
      "source": [
        "class Humanos():\n",
        "  def __init__(self, nombre,ojos, brazos, piernas, cabello, orejas,estatura,peso,contextura,sexo, rh):\n",
        "    self.nombre= nombre\n",
        "    self.ojos= ojos\n",
        "    self.brazos= 2\n",
        "    self.piernas= 2\n",
        "    self.orejas= 2 \n",
        "    self.estatura = estatura\n",
        "    self.peso = peso\n",
        "    self.contextura= contextura\n",
        "    self.sexo= sexo\n",
        "    self.rh = rh \n",
        "\n",
        "    def cambio_color(self, tinte):\n",
        "        if tinte==1:\n",
        "          self.cabello=\"Rubio\"\n",
        "          self.ojos=\"Azul\"\n",
        "\n",
        "        elif tinte==2:\n",
        "          self.cabello=\"Rojo\"\n",
        "          self.ojos=\"Rosa\"\n",
        "\n",
        "        elif tinte==3:\n",
        "          self.cabello=\"Azul\"\n",
        "          self.ojos=\"Azul\"  \n",
        "\n",
        "        else:\n",
        "          self.cabello=\"Negro\"\n",
        "          self.ojos=\"Negro\"  \n",
        "\n",
        "  #método de tipo estático\n",
        "    def movilizarse(self, vel):\n",
        "\n",
        "      if vel <0:\n",
        "          return f\"{self.nombre} esta retrocediendo\" \n",
        "          vel= -vel\n",
        "          return vel\n",
        "      if vel==0:\n",
        "        return f\"{self.nombre} esta en estado de reposo\"\n",
        "      elif vel >=1 and vel <=5:\n",
        "        return f\"{self.nombre} esta caminando\" \n",
        "      elif vel >5 and vel<=6:\n",
        "        return f\"{self.nombre} esta trotando\" \n",
        "      elif vel >6 and vel<=10:\n",
        "        return f\"{self.nombre} esta corriendo\" \n",
        "      elif vel >10 and vel<=700:\n",
        "          return f\"{self.nombre} esta volando\"\n",
        "      else:\n",
        "        return f\"{self.nombre} no es un humano\"\n",
        "\n",
        "     \n",
        "\n",
        "    def weight(self, morfologia):\n",
        "      if weight<= 50:\n",
        "        return f\"{self.morfologia} esta bajo de peso\"\n",
        "      elif weight > 50 or weight <= 70: \n",
        "        return f\"{self.morfologia} esta con peso estable\"  \n",
        "\n",
        "\n",
        "    def trabajar(self, trabajo):\n",
        "       if trabajo==0:\n",
        "         print({self.nombre}, \"Esta desempleado\")\n",
        "       elif trabajo== \"ingeniero\":\n",
        "         print({self.nombre}, \" tiene una buena posición\")\n",
        "       elif trabajo== \"Doctor\":\n",
        "          print({self.nombre}, \" Trabaja en un hospital\")\n",
        "       elif trabajo ==\"Odontologo\":\n",
        "          print({self.nombre}, \" Trabaja en salud oral\")\n",
        "       elif trabajo ==\"maestro\":\n",
        "          print({self.nombre}, \" Trabaja enseñando\")\n",
        "       elif trabajo ==\"luchador\":\n",
        "          print({self.nombre}, \" muestra sus habilidades contra otro peleador en publico\")\n",
        "       elif trabajo ==\"caza recompensas\":\n",
        "          print({self.nombre}, \" busca tesoros\")  \n",
        "\n",
        "\n",
        "\n",
        "        \n",
        "      \n",
        "\n",
        "\n"
      ],
      "metadata": {
        "id": "b-SSk1pjhLVQ"
      },
      "execution_count": 16,
      "outputs": []
    },
    {
      "cell_type": "code",
      "source": [
        "class Sayayin():\n",
        "    def __init__(self, nombre,ojos, brazos, piernas, cabello, orejas,estatura,peso,contextura,sexo, rh):\n",
        "      self.nombre= nombre\n",
        "      self.ojos= \"negro\"\n",
        "      self.brazos= brazos\n",
        "      self.piernas= piernas\n",
        "      self.cabello= \"Negro\"\n",
        "      self.orejas= orejas \n",
        "      self.estatura = estatura\n",
        "      self.peso = peso\n",
        "      self.contextura= contextura\n",
        "      self.sexo= sexo\n",
        "      self.rh = rh \n",
        "      self.cola_de_mono=True\n",
        "\n",
        "    #método de tipo estático\n",
        "    def movilizarse(self, vel):\n",
        "\n",
        "      def transformación(self, cola, luna):\n",
        "        if self.cola_de_mono and self.luna==True:\n",
        "          print(f\"{self.nombre} se convierte en un mono gigante\")\n",
        "        elif luna== False and self.cola_de_mono:\n",
        "          print(f\"{self.nombre} no se convierte en mono\")  \n",
        "        else:\n",
        "          print(f\"{self.nombre} no se convierte en mono\")  \n",
        "\n",
        "\n",
        "      def trabajar(self, trabajo):\n",
        "        jobs=[\"guerrero\",\"mercenario\",\"granjero\",\"rey\",\"principe\"]\n",
        "        if jobs[trabajo] in trabajo:\n",
        "          if trabajo==0:\n",
        "            print(self.nombre, \"esta\", jobs[trabajo])\n",
        "\n",
        "      def cambio_color(self, putisteria):\n",
        "        if putisteria >= 4000 and putisteria<=100000:\n",
        "          self.cabello=\"Rubio\"\n",
        "          self.ojos=\"Azul\"\n",
        "\n",
        "        elif putisteria >= 100000 and putisteria<1000000:\n",
        "          self.cabello=\"Rojo\"\n",
        "          self.ojos=\"Rosa\"\n",
        "\n",
        "        elif putisteria >= 1000000 and putisteria<50000000:\n",
        "          self.cabello=\"Azul\"\n",
        "          self.ojos=\"Azul\"  \n",
        "\n",
        "        else:\n",
        "          self.cabello=\"Negro\"\n",
        "          self.ojos=\"Negro\"  \n",
        "\n",
        "        def trabajo(self,t):\n",
        "          if t ==1: print(self.nombre, \" es guerrero\")\n",
        "          if t ==2: print(self.nombre, \" es liendra de freezer\")\n",
        "          if t ==3: print(self.nombre, \" es mercenario\")\n",
        "          if t ==4: print(self.nombre, \" es de la realeza\")\n",
        "          else: print(f\"{self.nombre} en Nini XD\")\n",
        "\n",
        "\n",
        "\n",
        "              \n"
      ],
      "metadata": {
        "id": "P4Tz3iDesnnm"
      },
      "execution_count": 17,
      "outputs": []
    },
    {
      "cell_type": "code",
      "source": [
        "class Hibridos(Sayayin, Humanos):\n",
        "  def cambio_color(self, a):\n",
        "    super().cambio_color(a)\n",
        "    if a>=10000000000 and a<10000000000000:\n",
        "      self.cabello=\"Blanco\"\n",
        "      self.ojos=\"Rojos\"\n",
        "      #print(self.nombre \"puede transformarce en modo bestia\")\n"
      ],
      "metadata": {
        "id": "GRrKwH6-u7MW"
      },
      "execution_count": 18,
      "outputs": []
    },
    {
      "cell_type": "code",
      "source": [
        "gohan=Hibridos(\"Gohan\",\"Negros\",2,2,\"Negro\",2, 1.85,85,\"Atletico\", \"Male\", \"A+\")\n",
        "\n",
        "#Emular una cafeteria python, Java"
      ],
      "metadata": {
        "id": "TTttvmVJwCc8"
      },
      "execution_count": 20,
      "outputs": []
    },
    {
      "cell_type": "code",
      "source": [
        "gohan.__dict__\n",
        "\n"
      ],
      "metadata": {
        "colab": {
          "base_uri": "https://localhost:8080/"
        },
        "id": "9jFn0Sc4vPV_",
        "outputId": "510c40e8-f5b1-4c56-e7d8-5bd76c2ad9e4"
      },
      "execution_count": 22,
      "outputs": [
        {
          "output_type": "execute_result",
          "data": {
            "text/plain": [
              "{'nombre': 'Gohan',\n",
              " 'ojos': 'negro',\n",
              " 'brazos': 2,\n",
              " 'piernas': 2,\n",
              " 'cabello': 'Negro',\n",
              " 'orejas': 2,\n",
              " 'estatura': 1.85,\n",
              " 'peso': 85,\n",
              " 'contextura': 'Atletico',\n",
              " 'sexo': 'Male',\n",
              " 'rh': 'A+',\n",
              " 'cola_de_mono': True}"
            ]
          },
          "metadata": {},
          "execution_count": 22
        }
      ]
    },
    {
      "cell_type": "code",
      "source": [
        "trunks= Hibridos(\"Trunks\",\"Azul\",2,2,\"Gris\",2, 1.80,80,\"Atletico\",\"Male\",\"AB+\")"
      ],
      "metadata": {
        "id": "MimgsW3Rv2Gl"
      },
      "execution_count": 24,
      "outputs": []
    },
    {
      "cell_type": "code",
      "source": [
        "trunks.__dict__"
      ],
      "metadata": {
        "colab": {
          "base_uri": "https://localhost:8080/"
        },
        "id": "ImcJkzyevglW",
        "outputId": "1fae9e24-68c1-4e80-affb-cb10cad08a85"
      },
      "execution_count": 26,
      "outputs": [
        {
          "output_type": "execute_result",
          "data": {
            "text/plain": [
              "{'nombre': 'Trunks',\n",
              " 'ojos': 'negro',\n",
              " 'brazos': 2,\n",
              " 'piernas': 2,\n",
              " 'cabello': 'Negro',\n",
              " 'orejas': 2,\n",
              " 'estatura': 1.8,\n",
              " 'peso': 80,\n",
              " 'contextura': 'Atletico',\n",
              " 'sexo': 'Male',\n",
              " 'rh': 'AB+',\n",
              " 'cola_de_mono': True}"
            ]
          },
          "metadata": {},
          "execution_count": 26
        }
      ]
    },
    {
      "cell_type": "code",
      "source": [
        "saya1= Sayayin(\"Johnsito\", \"aguamarina\",2,2, \"arcoiris con brishitos\", 2, 180,75,\"Atletico\", \"male\", \"a+\")"
      ],
      "metadata": {
        "id": "gFW0f4uTTVLn"
      },
      "execution_count": 9,
      "outputs": []
    },
    {
      "cell_type": "code",
      "source": [
        "saya1.__dict__"
      ],
      "metadata": {
        "colab": {
          "base_uri": "https://localhost:8080/"
        },
        "id": "eH-bCQC5VW3V",
        "outputId": "3f59f0d7-0204-4a99-d7a7-b513917268a5"
      },
      "execution_count": 10,
      "outputs": [
        {
          "output_type": "execute_result",
          "data": {
            "text/plain": [
              "{'nombre': 'Johnsito',\n",
              " 'ojos': 'negro',\n",
              " 'brazos': 2,\n",
              " 'piernas': 2,\n",
              " 'cabello': 'Negro',\n",
              " 'orejas': 2,\n",
              " 'estatura': 180,\n",
              " 'peso': 75,\n",
              " 'contextura': 'Atletico',\n",
              " 'sexo': 'male',\n",
              " 'rh': 'a+',\n",
              " 'cola_de_mono': True}"
            ]
          },
          "metadata": {},
          "execution_count": 10
        }
      ]
    },
    {
      "cell_type": "code",
      "source": [
        "saya1._cabello=\"Amarillo\""
      ],
      "metadata": {
        "id": "wIkeN6LjVTaF"
      },
      "execution_count": 13,
      "outputs": []
    },
    {
      "cell_type": "code",
      "source": [
        "humano=Humanos(\"Carlitos\", \"green\",)"
      ],
      "metadata": {
        "id": "_wk_3S9QbjDD"
      },
      "execution_count": null,
      "outputs": []
    },
    {
      "cell_type": "code",
      "source": [
        "persona=Hibridos(\"Gohan\", 1.85,)\n",
        "persona.cambio_color()"
      ],
      "metadata": {
        "id": "m1-_dhvkchiX"
      },
      "execution_count": null,
      "outputs": []
    }
  ]
}