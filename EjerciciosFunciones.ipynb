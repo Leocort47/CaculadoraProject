{
  "nbformat": 4,
  "nbformat_minor": 0,
  "metadata": {
    "colab": {
      "provenance": [],
      "collapsed_sections": []
    },
    "kernelspec": {
      "name": "python3",
      "display_name": "Python 3"
    },
    "language_info": {
      "name": "python"
    }
  },
  "cells": [
    {
      "cell_type": "code",
      "execution_count": null,
      "metadata": {
        "id": "MjdRdIKFay2D"
      },
      "outputs": [],
      "source": []
    },
    {
      "cell_type": "markdown",
      "source": [
        "# exersice 1"
      ],
      "metadata": {
        "id": "Hv31-aznbTJ2"
      }
    },
    {
      "cell_type": "code",
      "source": [
        "#Determine el mayor de dos números.\n",
        "\n",
        "num1 = int(input(\"Digita el primer numero: \"))\n",
        "num2 = int(input(\"Digita el otro numero: \"))\n",
        "\n",
        "def numeroMayor(x, y):\n",
        "\n",
        "  if x > y:\n",
        "    print(f\"El numero mayor es: {x}\")\n",
        "    a = x\n",
        "  else:\n",
        "    print(f\"El numero mayor es: {y}\")\n",
        "  \n",
        "numeroMayor(num1, num2)\n",
        "\n",
        "\n",
        "\n",
        "     "
      ],
      "metadata": {
        "id": "yUXh7cq_boHX"
      },
      "execution_count": null,
      "outputs": []
    },
    {
      "cell_type": "markdown",
      "source": [
        "# Exercise 2"
      ],
      "metadata": {
        "id": "hV-s5lQHhFcC"
      }
    },
    {
      "cell_type": "code",
      "source": [
        "#Determine el mayor de tres números (empleando la función anterior).\n",
        "\n",
        "num1 = int(input(\"Digita el primer numero: \"))\n",
        "num2 = int(input(\"Digita el segundo numero: \"))\n",
        "num3 = int(input(\"Digita el tercer numero: \"))\n",
        "\n",
        "\n",
        "def numeroMayor(x, y, z):\n",
        "\n",
        "  if x > y and x > z:\n",
        "    print(f\"El numero mayor es: {x}\")\n",
        "  elif y > x and y > z:\n",
        "    print(f\"El numero mayor es: {y}\")\n",
        "  else:\n",
        "    print(f\"El numero mayor es: {z}\")\n",
        "  \n",
        "numeroMayor(num1, num2, num3)\n",
        "\n",
        "\n",
        "\n",
        "\n"
      ],
      "metadata": {
        "id": "IL8NM6ZdhJRo"
      },
      "execution_count": null,
      "outputs": []
    },
    {
      "cell_type": "markdown",
      "source": [
        "# Exercise 3"
      ],
      "metadata": {
        "id": "anLjQi_shscy"
      }
    },
    {
      "cell_type": "code",
      "source": [
        "#Sumar los números de una lista de 3 elementos. Ejemplo [3,4,5]. Salida: 12\n",
        "\n",
        "num1 = int(input(\"Digita el valor del primer elemento: \"))\n",
        "num2 = int(input(\"Digita el valor del segundo elemento: \"))\n",
        "num3 = int(input(\"Digita el valor del tercer elemento: \"))\n",
        "\n",
        "def mayor(num1, num2, num3):\n",
        "\n",
        "    list=[num1,num2, num3]\n",
        "    listSum = sum(list)\n",
        "    print(f\"sum of list: {listSum}\")\n",
        "\n",
        "mayor(num1, num2, num3)    \n",
        "\n",
        "\n"
      ],
      "metadata": {
        "id": "qK9KIc64hvWZ"
      },
      "execution_count": null,
      "outputs": []
    },
    {
      "cell_type": "markdown",
      "source": [
        "# Exercise 4"
      ],
      "metadata": {
        "id": "kkcqDrJckl-u"
      }
    },
    {
      "cell_type": "code",
      "source": [
        "#Sumar los números de una lista de 4 elementos. Ejemplo [3,4,5,6]. Salida: 18\n",
        "\n",
        "num1 = int(input(\"Digita el valor del primer elemento: \"))\n",
        "num2 = int(input(\"Digita el valor del segundo elemento: \"))\n",
        "num3 = int(input(\"Digita el valor del tercer elemento: \"))\n",
        "num4 = int(input(\"Digita el valor del cuarto elemento: \"))\n",
        "\n",
        "def mayor(num1, num2, num3, num4):\n",
        "\n",
        "    list=[num1,num2, num3, num4]\n",
        "    listSum = sum(list)\n",
        "    print(f\"sum of list: {listSum}\")\n",
        "\n",
        "mayor(num1, num2, num3, num4)  \n",
        "\n",
        "\n"
      ],
      "metadata": {
        "id": "wK_YJwBakqE0"
      },
      "execution_count": null,
      "outputs": []
    },
    {
      "cell_type": "markdown",
      "source": [
        "# Exercise 5"
      ],
      "metadata": {
        "id": "HA6KLnkSlAc_"
      }
    },
    {
      "cell_type": "code",
      "source": [
        "#Sumar todos los números de una lista. Ejemplo: (8,5,3,1). Salida: 17\n",
        "\n",
        "print(\"Welcome to my list\")\n",
        "# elementos = int(input(\"Digta el numero de elementos que quieres para tu lista: \"))\n",
        "\n",
        "def crearVector():\n",
        "   valor = input(\"Deseas digitar algun elemento a la lista: \")\n",
        "   list= []\n",
        "   cont = 0\n",
        "   while valor == \"si\":\n",
        "      valor1 = int(input(\"Ingresá un numero: \"))\n",
        "      list.append(valor1)\n",
        "      valor = input(\"Deseas digitar algun elemento a la lista: \")\n",
        "   return list \n",
        "   \n",
        "prueba = crearVector()\n",
        "\n"
      ],
      "metadata": {
        "colab": {
          "base_uri": "https://localhost:8080/"
        },
        "id": "Mq4Bdv9HlEAW",
        "outputId": "b97f29ef-004c-4a6d-8a12-1e5230a7f82e"
      },
      "execution_count": 25,
      "outputs": [
        {
          "name": "stdout",
          "output_type": "stream",
          "text": [
            "Welcome to my list\n",
            "Deseas digitar algun elemento a la lista: si\n",
            "Ingresá un numero: 4\n",
            "Deseas digitar algun elemento a la lista: si\n",
            "Ingresá un numero: 2\n",
            "Deseas digitar algun elemento a la lista: no\n"
          ]
        }
      ]
    },
    {
      "cell_type": "code",
      "source": [
        "prueba"
      ],
      "metadata": {
        "colab": {
          "base_uri": "https://localhost:8080/"
        },
        "id": "l0CY6Nu7t6hj",
        "outputId": "7154c1ae-63fd-444d-c1aa-bfb4facf481f"
      },
      "execution_count": 26,
      "outputs": [
        {
          "output_type": "execute_result",
          "data": {
            "text/plain": [
              "[4, 2]"
            ]
          },
          "metadata": {},
          "execution_count": 26
        }
      ]
    },
    {
      "cell_type": "code",
      "source": [
        "def suma(elementos):                           \n",
        "  \n",
        "  size = len(elementos)\n",
        "  resultado = 0\n",
        "\n",
        "  for i in range(size):\n",
        "    resultado = elementos[i]+resultado\n",
        "\n",
        "    print(f\"La suma de los elementos es: {resultado}\")\n",
        "\n",
        "    # list.append([])\n",
        "    # listSum = sum(list)\n",
        "    # print(f\"element's sum: {listSum}\")\n",
        "\n",
        "# elementos = [2,3,4,6]\n",
        "suma(prueba)  "
      ],
      "metadata": {
        "colab": {
          "base_uri": "https://localhost:8080/"
        },
        "id": "eyzoqQh9tYBM",
        "outputId": "3659b80a-2086-4bbe-ee23-2c26ca1a5ec6"
      },
      "execution_count": 27,
      "outputs": [
        {
          "output_type": "stream",
          "name": "stdout",
          "text": [
            "La suma de los elementos es: 4\n",
            "La suma de los elementos es: 6\n"
          ]
        }
      ]
    },
    {
      "cell_type": "markdown",
      "source": [
        "# Exercise 6"
      ],
      "metadata": {
        "id": "HJxinUSzuK7d"
      }
    },
    {
      "cell_type": "code",
      "source": [
        "from ast import Mult\n",
        "#Multiplicar los números de una lista de 3 elementos. Ejemplo [0,4,5]. Salida: 0\n",
        "\n",
        "num1 = int(input(\"Digita el valor del primer elemento: \"))\n",
        "num2 = int(input(\"Digita el valor del segundo elemento: \"))\n",
        "num3 = int(input(\"Digita el valor del tercer elemento: \"))\n",
        "\n",
        "def mayor(num1, num2, num3):\n",
        "\n",
        "    list=[num1,num2, num3]\n",
        "    listMul = list[0]*list[1]*list[2]\n",
        "    print(f\"El resultado es: {listMul}\")\n",
        "\n",
        "mayor(num1, num2, num3)  \n"
      ],
      "metadata": {
        "colab": {
          "base_uri": "https://localhost:8080/"
        },
        "id": "5P5jEjEduOtD",
        "outputId": "afd4ad12-9a9b-4be7-d3fc-d352dc9815db"
      },
      "execution_count": 30,
      "outputs": [
        {
          "output_type": "stream",
          "name": "stdout",
          "text": [
            "Digita el valor del primer elemento: 2\n",
            "Digita el valor del segundo elemento: 3\n",
            "Digita el valor del tercer elemento: 4\n",
            "sum of list: 24\n"
          ]
        }
      ]
    },
    {
      "cell_type": "markdown",
      "source": [
        "# Exercise 7"
      ],
      "metadata": {
        "id": "iSPy0fXuvFgn"
      }
    },
    {
      "cell_type": "code",
      "source": [
        "# Multiplicar los números de una lista de 4 elementos. Ejemplo [3,4,5,1]. Salida: 60\n",
        "\n",
        "from ast import Mult\n",
        "#Multiplicar los números de una lista de 3 elementos. Ejemplo [0,4,5]. Salida: 0\n",
        "\n",
        "num1 = int(input(\"Digita el valor del primer elemento: \"))\n",
        "num2 = int(input(\"Digita el valor del segundo elemento: \"))\n",
        "num3 = int(input(\"Digita el valor del tercer elemento: \"))\n",
        "num4 = int(input(\"Digita el valor del cuatro elemento: \"))\n",
        "\n",
        "def mayor(num1, num2, num3, num4):\n",
        "\n",
        "    list=[num1,num2, num3,num4]\n",
        "    listMul = list[0]*list[1]*list[2]*list[3]\n",
        "    print(f\"El resultado es: {listMul}\")\n",
        "\n",
        "mayor(num1, num2, num3, num4)\n"
      ],
      "metadata": {
        "colab": {
          "base_uri": "https://localhost:8080/"
        },
        "id": "GwbGhiwtvHzd",
        "outputId": "629ee98d-6380-4fac-e399-e4825f76e1eb"
      },
      "execution_count": 31,
      "outputs": [
        {
          "output_type": "stream",
          "name": "stdout",
          "text": [
            "Digita el valor del primer elemento: 2\n",
            "Digita el valor del segundo elemento: 3\n",
            "Digita el valor del tercer elemento: 4\n",
            "Digita el valor del cuatro elemento: 5\n",
            "El resultado es: 120\n"
          ]
        }
      ]
    },
    {
      "cell_type": "markdown",
      "source": [
        "# Exercise 8"
      ],
      "metadata": {
        "id": "xfJVF-W-viN3"
      }
    },
    {
      "cell_type": "code",
      "source": [
        "#Multiplicar todos los números de una lista. Ejemplo: (1,2,3,-1). Salida: -6\n",
        "\n",
        "print(\"Welcome to my list\")\n",
        "\n",
        "\n",
        "def crearVector():\n",
        "   valor = input(\"Deseas digitar algun elemento a la lista: \")\n",
        "   list= []\n",
        "   cont = 0\n",
        "   while valor == \"si\":\n",
        "      valor1 = int(input(\"Ingresá un numero: \"))\n",
        "      list.append(valor1)\n",
        "      valor = input(\"Deseas digitar algun elemento a la lista: \")\n",
        "   return list \n",
        "   \n",
        "prueba = crearVector()\n",
        "\n",
        "def mult(elementos):                           \n",
        "  \n",
        "  size = len(elementos)\n",
        "  resultado = 1\n",
        "\n",
        "  for i in range(size):\n",
        "    resultado = elementos[i]*resultado\n",
        "\n",
        "    print(f\"El resultado es: {resultado}\")\n",
        "\n",
        "    # list.append([])\n",
        "    # listSum = sum(list)\n",
        "    # print(f\"element's sum: {listSum}\")\n",
        "\n",
        "# elementos = [2,3,4,6]\n",
        "mult(prueba)  \n"
      ],
      "metadata": {
        "colab": {
          "base_uri": "https://localhost:8080/"
        },
        "id": "cylM6muHvk7u",
        "outputId": "f9f7e580-3c3f-4745-a22e-ffa79d9700ee"
      },
      "execution_count": 39,
      "outputs": [
        {
          "output_type": "stream",
          "name": "stdout",
          "text": [
            "Welcome to my list\n",
            "Deseas digitar algun elemento a la lista: si\n",
            "Ingresá un numero: 4\n",
            "Deseas digitar algun elemento a la lista: si\n",
            "Ingresá un numero: 6\n",
            "Deseas digitar algun elemento a la lista: no\n",
            "El resultado es: 4\n",
            "El resultado es: 24\n"
          ]
        }
      ]
    },
    {
      "cell_type": "markdown",
      "source": [
        "# Exercise 9"
      ],
      "metadata": {
        "id": "xGfBVrpTwrOf"
      }
    },
    {
      "cell_type": "code",
      "source": [
        "# 9. Invierta un String. Ejemplo: ingresa Hola y retorna aloH\n",
        "\n",
        "if __name__ == '__main__':\n",
        " \n",
        "    palabra = input(\"Digita una palabra: \")\n",
        " \n",
        "    rev = palabra[::-1]\n",
        "    print(rev) \n"
      ],
      "metadata": {
        "colab": {
          "base_uri": "https://localhost:8080/"
        },
        "id": "Oqcq1K9vwtM3",
        "outputId": "a42de277-6720-48b2-82a0-acab3972a451"
      },
      "execution_count": 36,
      "outputs": [
        {
          "output_type": "stream",
          "name": "stdout",
          "text": [
            "Digita una palabra: hola\n",
            "aloh\n"
          ]
        }
      ]
    },
    {
      "cell_type": "markdown",
      "source": [
        "# Exercise 10"
      ],
      "metadata": {
        "id": "7wD3YdfDyRR2"
      }
    },
    {
      "cell_type": "code",
      "source": [
        "#10. Calcular el factorial de un número\n",
        "\n",
        "calNum = int(input(\"A Cuantos numeros deseas hallarle el factorial: \"))\n",
        "#num = int(input(\"Digita un numero: \"))\n",
        "\n",
        "factorial = 1 \n",
        "contador = 0\n",
        "\n",
        "while contador<calNum and num>0:\n",
        "  num = int(input(\"Digita un numero: \"))\n",
        "  contador +=1\n",
        "  factorial = 1\n",
        "  if num!=0:\n",
        "    for i in range(1, num+1):\n",
        "      factorial = factorial*i\n",
        "    print(f\"Factorial: {factorial}\")\n",
        "      \n",
        "\n",
        "\n"
      ],
      "metadata": {
        "id": "uPMl0JzwyTdT"
      },
      "execution_count": null,
      "outputs": []
    },
    {
      "cell_type": "markdown",
      "source": [
        "# Exercise 11"
      ],
      "metadata": {
        "id": "bdIzvEU6zbvF"
      }
    },
    {
      "cell_type": "code",
      "source": [
        "#11. Si un número está dentro de un rango.\n"
      ],
      "metadata": {
        "id": "Yjluef05zeyf"
      },
      "execution_count": null,
      "outputs": []
    }
  ]
}